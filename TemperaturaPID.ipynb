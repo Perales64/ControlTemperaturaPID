{
  "nbformat": 4,
  "nbformat_minor": 0,
  "metadata": {
    "colab": {
      "provenance": [],
      "authorship_tag": "ABX9TyP3nrC4x0DEMzarynN3it7/",
      "include_colab_link": true
    },
    "kernelspec": {
      "name": "python3",
      "display_name": "Python 3"
    },
    "language_info": {
      "name": "python"
    }
  },
  "cells": [
    {
      "cell_type": "markdown",
      "metadata": {
        "id": "view-in-github",
        "colab_type": "text"
      },
      "source": [
        "<a href=\"https://colab.research.google.com/github/Perales64/ControlTemperaturaPID/blob/main/TemperaturaPID.ipynb\" target=\"_parent\"><img src=\"https://colab.research.google.com/assets/colab-badge.svg\" alt=\"Open In Colab\"/></a>"
      ]
    },
    {
      "cell_type": "markdown",
      "source": [
        "# Proyecto Temperatura PID"
      ],
      "metadata": {
        "id": "uX2Psc5xk_8O"
      }
    },
    {
      "cell_type": "code",
      "source": [],
      "metadata": {
        "id": "mdtWR142kXZO"
      },
      "execution_count": null,
      "outputs": []
    }
  ]
}